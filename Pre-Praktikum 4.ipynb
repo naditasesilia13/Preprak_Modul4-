{
 "cells": [
  {
   "cell_type": "code",
   "execution_count": 3,
   "metadata": {},
   "outputs": [
    {
     "name": "stdout",
     "output_type": "stream",
     "text": [
      "HOF: 10\n",
      "Currying: 10\n"
     ]
    }
   ],
   "source": [
    "# Higher-Order Function (HOF)\n",
    "def perkalian(a):\n",
    "    def dengan(b):\n",
    "        return a * b\n",
    "    return dengan\n",
    "\n",
    "hasil_hof = perkalian(2)(5)\n",
    "print(\"HOF:\", hasil_hof)\n",
    "\n",
    "# Currying\n",
    "def curry_perkalian(a):\n",
    "    def curry_dengan(b):\n",
    "        return a * b\n",
    "    return curry_dengan\n",
    "\n",
    "hasil_currying = curry_perkalian(2)(5)\n",
    "print(\"Currying:\", hasil_currying)\n"
   ]
  },
  {
   "cell_type": "code",
   "execution_count": 5,
   "metadata": {},
   "outputs": [
    {
     "name": "stdout",
     "output_type": "stream",
     "text": [
      "HELLO THERE\n"
     ]
    }
   ],
   "source": [
    "def uppercase_decorator(function):\n",
    "    def wrapper():\n",
    "        func = function()\n",
    "        return func.upper()\n",
    "    \n",
    "    return wrapper\n",
    "\n",
    "@uppercase_decorator\n",
    "def say_hi():\n",
    "    return 'hello there'\n",
    "\n",
    "result = say_hi()\n",
    "print(result)\n"
   ]
  },
  {
   "cell_type": "code",
   "execution_count": 6,
   "metadata": {},
   "outputs": [
    {
     "name": "stdout",
     "output_type": "stream",
     "text": [
      "Hello There -Data is converted to title case\n",
      "['Hello', 'There'] -Then Data is splitted\n",
      "['Hello', 'There']\n"
     ]
    }
   ],
   "source": [
    "def title_decorator(function):\n",
    "    def wrapper():\n",
    "        func = function()\n",
    "        make_title = func.title()\n",
    "        print(make_title + \" -Data is converted to title case\")\n",
    "        return make_title\n",
    "    return wrapper\n",
    "\n",
    "def split_string_decorator(function):\n",
    "    def wrapper():\n",
    "        func = function()\n",
    "        splitted_string = func.split()\n",
    "        print(str(splitted_string) + \" -Then Data is splitted\")\n",
    "        return splitted_string\n",
    "    return wrapper\n",
    "\n",
    "@split_string_decorator\n",
    "@title_decorator\n",
    "def say_hi():\n",
    "    return 'hello there'\n",
    "\n",
    "result = say_hi()\n",
    "print(result)\n"
   ]
  },
  {
   "cell_type": "code",
   "execution_count": 7,
   "metadata": {},
   "outputs": [
    {
     "name": "stdout",
     "output_type": "stream",
     "text": [
      "Koordinat setelah translasi: (5, 4)\n",
      "Koordinat setelah dilatasi: (6, -5)\n",
      "Koordinat setelah rotasi: (0.09807621135331646, 5.830127018922194)\n"
     ]
    }
   ],
   "source": [
    "import math\n",
    "\n",
    "# Fungsi untuk translasi\n",
    "def translasi(tx, ty):\n",
    "    def translasi_inner(point):\n",
    "        x, y = point\n",
    "        new_x = x + tx\n",
    "        new_y = y + ty\n",
    "        return (new_x, new_y)\n",
    "    return translasi_inner\n",
    "\n",
    "# Fungsi untuk dilatasi\n",
    "def dilatasi(sx, sy):\n",
    "    def dilatasi_inner(point):\n",
    "        x, y = point\n",
    "        new_x = x * sx\n",
    "        new_y = y * sy\n",
    "        return (new_x, new_y)\n",
    "    return dilatasi_inner\n",
    "\n",
    "# Fungsi untuk rotasi\n",
    "def rotasi(sudut):\n",
    "    radian = math.radians(sudut)\n",
    "    def rotasi_inner(point):\n",
    "        x, y = point\n",
    "        new_x = x * math.cos(radian) - y * math.sin(radian)\n",
    "        new_y = x * math.sin(radian) + y * math.cos(radian)\n",
    "        return (new_x, new_y)\n",
    "    return rotasi_inner\n",
    "\n",
    "# Titik awal\n",
    "titik_P = (3, 5)\n",
    "\n",
    "# Translasi\n",
    "translasi_fn = translasi(2, -1)\n",
    "translasi_result = translasi_fn(titik_P)\n",
    "print(f\"Koordinat setelah translasi: {translasi_result}\")\n",
    "\n",
    "# Dilatasi\n",
    "dilatasi_fn = dilatasi(2, -1)\n",
    "dilatasi_result = dilatasi_fn(titik_P)\n",
    "print(f\"Koordinat setelah dilatasi: {dilatasi_result}\")\n",
    "\n",
    "# Rotasi\n",
    "rotasi_fn = rotasi(30)\n",
    "rotasi_result = rotasi_fn(titik_P)\n",
    "print(f\"Koordinat setelah rotasi: {rotasi_result}\")\n"
   ]
  },
  {
   "cell_type": "code",
   "execution_count": 16,
   "metadata": {},
   "outputs": [
    {
     "name": "stdout",
     "output_type": "stream",
     "text": [
      "Persamaan garis yang melalui titik A dan B:\n",
      "y = -0.67x + 10.67\n"
     ]
    }
   ],
   "source": [
    "def point(x, y):\n",
    "    return x, y\n",
    "\n",
    "def line_equation_of(p1, p2):\n",
    "    # Dapatkan nilai x dan y dari kedua titik\n",
    "    x1, y1 = p1\n",
    "    x2, y2 = p2\n",
    "    \n",
    "    # Hitung gradien (m)\n",
    "    m = (y2 - y1) / (x2 - x1)\n",
    "    \n",
    "    # Hitung konstanta (c)\n",
    "    c = y1 - m * x1\n",
    "    \n",
    "    return f\"y = {m:.2f}x + {c:.2f}\"\n",
    "\n",
    "# Titik A dan B\n",
    "titik_A = point(10, 4)\n",
    "titik_B = point(1, 10)\n",
    "\n",
    "# Hitung persamaan garis yang melalui titik A dan B\n",
    "persamaan_garis = line_equation_of(titik_A, titik_B)\n",
    "\n",
    "# Cetak hasilnya\n",
    "print(\"Persamaan garis yang melalui titik A dan B:\")\n",
    "print(persamaan_garis)"
   ]
  },
  {
   "cell_type": "code",
   "execution_count": 10,
   "metadata": {},
   "outputs": [
    {
     "name": "stdout",
     "output_type": "stream",
     "text": [
      "Persamaan garis yang melalui titik (4,1) dan bergradien 0:\n",
      "y = 0.00x + 1.00\n"
     ]
    }
   ],
   "source": [
    "def point(x, y):\n",
    "    return x, y\n",
    "\n",
    "def line_equation_of(p1, M):\n",
    "    # Inner function untuk menghitung nilai C\n",
    "    def calculate_C(x, y):\n",
    "        return y - M * x\n",
    "    \n",
    "    # Ekstrak koordinat titik\n",
    "    x1, y1 = p1\n",
    "    \n",
    "    # Hitung nilai C dengan memanggil fungsi inner\n",
    "    C = calculate_C(x1, y1)\n",
    "    \n",
    "    return f\"y = {M:.2f}x + {C:.2f}\"\n",
    "\n",
    "# Titik yang diberikan dan gradiennya\n",
    "P = point(4, 1)\n",
    "M = 0\n",
    "\n",
    "# Cetak persamaan garis yang melalui titik P dan memiliki gradien M\n",
    "print(\"Persamaan garis yang melalui titik (4,1) dan bergradien 0:\")\n",
    "print(line_equation_of(P, M))\n"
   ]
  }
 ],
 "metadata": {
  "kernelspec": {
   "display_name": "base",
   "language": "python",
   "name": "python3"
  },
  "language_info": {
   "codemirror_mode": {
    "name": "ipython",
    "version": 3
   },
   "file_extension": ".py",
   "mimetype": "text/x-python",
   "name": "python",
   "nbconvert_exporter": "python",
   "pygments_lexer": "ipython3",
   "version": "3.9.12"
  }
 },
 "nbformat": 4,
 "nbformat_minor": 2
}
